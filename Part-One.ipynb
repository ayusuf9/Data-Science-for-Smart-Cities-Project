{
 "cells": [
  {
   "cell_type": "markdown",
   "id": "6081f228",
   "metadata": {},
   "source": [
    "## Abdul Musa Yusuf -- CE263N/CP257"
   ]
  },
  {
   "cell_type": "code",
   "execution_count": 1,
   "id": "dbab2fcc",
   "metadata": {},
   "outputs": [],
   "source": [
    "import pandas as pd\n",
    "import numpy as np\n",
    "import networkx as nx\n",
    "import matplotlib.pyplot as plt "
   ]
  },
  {
   "cell_type": "code",
   "execution_count": 2,
   "id": "4e94af50",
   "metadata": {},
   "outputs": [],
   "source": [
    "# To begin I will be reading in the data. \n",
    "\n",
    "df = pd.read_csv (r'ce263n_cyplan257_nodes.csv')"
   ]
  },
  {
   "cell_type": "code",
   "execution_count": 3,
   "id": "0a3a569f",
   "metadata": {
    "scrolled": true
   },
   "outputs": [
    {
     "data": {
      "text/html": [
       "<div>\n",
       "<style scoped>\n",
       "    .dataframe tbody tr th:only-of-type {\n",
       "        vertical-align: middle;\n",
       "    }\n",
       "\n",
       "    .dataframe tbody tr th {\n",
       "        vertical-align: top;\n",
       "    }\n",
       "\n",
       "    .dataframe thead th {\n",
       "        text-align: right;\n",
       "    }\n",
       "</style>\n",
       "<table border=\"1\" class=\"dataframe\">\n",
       "  <thead>\n",
       "    <tr style=\"text-align: right;\">\n",
       "      <th></th>\n",
       "      <th>Node ID</th>\n",
       "      <th>Name</th>\n",
       "      <th>Email Address</th>\n",
       "      <th>Majors</th>\n",
       "    </tr>\n",
       "  </thead>\n",
       "  <tbody>\n",
       "    <tr>\n",
       "      <th>0</th>\n",
       "      <td>1</td>\n",
       "      <td>Adelkar, Siddharth</td>\n",
       "      <td>Siddharth Adelkar</td>\n",
       "      <td>Info Mgmt &amp; Systems MIMS</td>\n",
       "    </tr>\n",
       "    <tr>\n",
       "      <th>1</th>\n",
       "      <td>2</td>\n",
       "      <td>Aldamer, Abdullah</td>\n",
       "      <td>Abdullah Aldamer</td>\n",
       "      <td>Civil &amp; Environmental Eng MEng</td>\n",
       "    </tr>\n",
       "    <tr>\n",
       "      <th>2</th>\n",
       "      <td>3</td>\n",
       "      <td>Almusafri, Sara</td>\n",
       "      <td>Sara Almusafri</td>\n",
       "      <td>Development Engineering MDE</td>\n",
       "    </tr>\n",
       "    <tr>\n",
       "      <th>3</th>\n",
       "      <td>4</td>\n",
       "      <td>Alshehri, Ibtihal</td>\n",
       "      <td>Ibtihal Alshehri</td>\n",
       "      <td>Development Engineering MDE</td>\n",
       "    </tr>\n",
       "    <tr>\n",
       "      <th>4</th>\n",
       "      <td>5</td>\n",
       "      <td>Bolaji, John</td>\n",
       "      <td>John Bolaji</td>\n",
       "      <td>Business Admin MBA-MEng CDP, Civ Env Engin MEn...</td>\n",
       "    </tr>\n",
       "  </tbody>\n",
       "</table>\n",
       "</div>"
      ],
      "text/plain": [
       "   Node ID                Name      Email Address  \\\n",
       "0        1  Adelkar, Siddharth  Siddharth Adelkar   \n",
       "1        2   Aldamer, Abdullah   Abdullah Aldamer   \n",
       "2        3     Almusafri, Sara     Sara Almusafri   \n",
       "3        4   Alshehri, Ibtihal   Ibtihal Alshehri   \n",
       "4        5        Bolaji, John        John Bolaji   \n",
       "\n",
       "                                              Majors  \n",
       "0                           Info Mgmt & Systems MIMS  \n",
       "1                     Civil & Environmental Eng MEng  \n",
       "2                        Development Engineering MDE  \n",
       "3                        Development Engineering MDE  \n",
       "4  Business Admin MBA-MEng CDP, Civ Env Engin MEn...  "
      ]
     },
     "execution_count": 3,
     "metadata": {},
     "output_type": "execute_result"
    }
   ],
   "source": [
    "df.head()"
   ]
  },
  {
   "cell_type": "code",
   "execution_count": 4,
   "id": "58b1299f",
   "metadata": {},
   "outputs": [],
   "source": [
    "# I will then import the random links document\n",
    "\n",
    "rd = pd.read_csv (r'random.csv')"
   ]
  },
  {
   "cell_type": "code",
   "execution_count": 5,
   "id": "e6cb4ded",
   "metadata": {},
   "outputs": [
    {
     "data": {
      "text/html": [
       "<div>\n",
       "<style scoped>\n",
       "    .dataframe tbody tr th:only-of-type {\n",
       "        vertical-align: middle;\n",
       "    }\n",
       "\n",
       "    .dataframe tbody tr th {\n",
       "        vertical-align: top;\n",
       "    }\n",
       "\n",
       "    .dataframe thead th {\n",
       "        text-align: right;\n",
       "    }\n",
       "</style>\n",
       "<table border=\"1\" class=\"dataframe\">\n",
       "  <thead>\n",
       "    <tr style=\"text-align: right;\">\n",
       "      <th></th>\n",
       "      <th>source</th>\n",
       "      <th>target</th>\n",
       "    </tr>\n",
       "  </thead>\n",
       "  <tbody>\n",
       "    <tr>\n",
       "      <th>0</th>\n",
       "      <td>58</td>\n",
       "      <td>20</td>\n",
       "    </tr>\n",
       "    <tr>\n",
       "      <th>1</th>\n",
       "      <td>58</td>\n",
       "      <td>32</td>\n",
       "    </tr>\n",
       "    <tr>\n",
       "      <th>2</th>\n",
       "      <td>58</td>\n",
       "      <td>41</td>\n",
       "    </tr>\n",
       "    <tr>\n",
       "      <th>3</th>\n",
       "      <td>58</td>\n",
       "      <td>76</td>\n",
       "    </tr>\n",
       "    <tr>\n",
       "      <th>4</th>\n",
       "      <td>22</td>\n",
       "      <td>30</td>\n",
       "    </tr>\n",
       "  </tbody>\n",
       "</table>\n",
       "</div>"
      ],
      "text/plain": [
       "   source  target\n",
       "0      58      20\n",
       "1      58      32\n",
       "2      58      41\n",
       "3      58      76\n",
       "4      22      30"
      ]
     },
     "execution_count": 5,
     "metadata": {},
     "output_type": "execute_result"
    }
   ],
   "source": [
    "rd.head()"
   ]
  },
  {
   "cell_type": "code",
   "execution_count": 6,
   "id": "27af1fc1",
   "metadata": {},
   "outputs": [],
   "source": [
    "# Lastly I will then import the acquintances document. \n",
    "\n",
    "ac = pd.read_csv (r'acquaintances.csv', delimiter = ',')\n",
    "ac.columns = list(map(str.lower, ac.columns))"
   ]
  },
  {
   "cell_type": "code",
   "execution_count": 7,
   "id": "afc619f8",
   "metadata": {},
   "outputs": [
    {
     "data": {
      "text/html": [
       "<div>\n",
       "<style scoped>\n",
       "    .dataframe tbody tr th:only-of-type {\n",
       "        vertical-align: middle;\n",
       "    }\n",
       "\n",
       "    .dataframe tbody tr th {\n",
       "        vertical-align: top;\n",
       "    }\n",
       "\n",
       "    .dataframe thead th {\n",
       "        text-align: right;\n",
       "    }\n",
       "</style>\n",
       "<table border=\"1\" class=\"dataframe\">\n",
       "  <thead>\n",
       "    <tr style=\"text-align: right;\">\n",
       "      <th></th>\n",
       "      <th>source</th>\n",
       "      <th>target</th>\n",
       "      <th>weight</th>\n",
       "    </tr>\n",
       "  </thead>\n",
       "  <tbody>\n",
       "    <tr>\n",
       "      <th>0</th>\n",
       "      <td>21</td>\n",
       "      <td>60</td>\n",
       "      <td>3</td>\n",
       "    </tr>\n",
       "    <tr>\n",
       "      <th>1</th>\n",
       "      <td>21</td>\n",
       "      <td>2</td>\n",
       "      <td>1</td>\n",
       "    </tr>\n",
       "    <tr>\n",
       "      <th>2</th>\n",
       "      <td>21</td>\n",
       "      <td>19</td>\n",
       "      <td>3</td>\n",
       "    </tr>\n",
       "    <tr>\n",
       "      <th>3</th>\n",
       "      <td>21</td>\n",
       "      <td>76</td>\n",
       "      <td>3</td>\n",
       "    </tr>\n",
       "    <tr>\n",
       "      <th>4</th>\n",
       "      <td>21</td>\n",
       "      <td>52</td>\n",
       "      <td>1</td>\n",
       "    </tr>\n",
       "  </tbody>\n",
       "</table>\n",
       "</div>"
      ],
      "text/plain": [
       "   source  target  weight\n",
       "0      21      60       3\n",
       "1      21       2       1\n",
       "2      21      19       3\n",
       "3      21      76       3\n",
       "4      21      52       1"
      ]
     },
     "execution_count": 7,
     "metadata": {},
     "output_type": "execute_result"
    }
   ],
   "source": [
    "ac.head()"
   ]
  },
  {
   "cell_type": "markdown",
   "id": "ebe09bf3",
   "metadata": {},
   "source": [
    "### Part 1: How many nodes and links each network has"
   ]
  },
  {
   "cell_type": "code",
   "execution_count": 8,
   "id": "b2598b88",
   "metadata": {},
   "outputs": [],
   "source": [
    "# For the random links I will go ahead and dedcuced that below..\n",
    "\n",
    "gr = nx.DiGraph()"
   ]
  },
  {
   "cell_type": "code",
   "execution_count": 9,
   "id": "2f74b689",
   "metadata": {},
   "outputs": [],
   "source": [
    "for i in rd.index.values:\n",
    "    gr.add_edge(rd['source'][i],rd['target'][i])"
   ]
  },
  {
   "cell_type": "code",
   "execution_count": 10,
   "id": "13c4e36b",
   "metadata": {},
   "outputs": [
    {
     "name": "stdout",
     "output_type": "stream",
     "text": [
      "DiGraph with 77 nodes and 251 edges\n"
     ]
    }
   ],
   "source": [
    "print(gr)"
   ]
  },
  {
   "cell_type": "markdown",
   "id": "f0977ee6",
   "metadata": {},
   "source": [
    "Answer: From the above, we can deduce that there are 77 nodes in our network and 251 links. "
   ]
  },
  {
   "cell_type": "code",
   "execution_count": 11,
   "id": "2b579b4b",
   "metadata": {},
   "outputs": [],
   "source": [
    "ac.source.nunique()\n",
    "gh = nx.DiGraph()"
   ]
  },
  {
   "cell_type": "code",
   "execution_count": 12,
   "id": "1c981d6f",
   "metadata": {},
   "outputs": [],
   "source": [
    "# For the acquaintances links I will go ahead and dedcuced that below..\n",
    "\n",
    "for i in ac.index.values:\n",
    "        gh.add_edge(ac['source'][i], ac['target'][i])"
   ]
  },
  {
   "cell_type": "code",
   "execution_count": 13,
   "id": "9f1f1967",
   "metadata": {},
   "outputs": [
    {
     "name": "stdout",
     "output_type": "stream",
     "text": [
      "DiGraph with 71 nodes and 290 edges\n"
     ]
    }
   ],
   "source": [
    "print(gh)"
   ]
  },
  {
   "cell_type": "markdown",
   "id": "977d04b8",
   "metadata": {},
   "source": [
    "Answer: For the acquaintances network, we can deduce that there are 71 nodes in our network as well as a total of 290 links. "
   ]
  },
  {
   "cell_type": "markdown",
   "id": "8c4054e1",
   "metadata": {},
   "source": [
    "### Part 2: What is the average degree of each network"
   ]
  },
  {
   "cell_type": "code",
   "execution_count": 14,
   "id": "815dd37d",
   "metadata": {},
   "outputs": [],
   "source": [
    "# I will first of all begin with the random link network.\n",
    "\n",
    "rdg = 2 * np.mean(list(dict(gr.in_degree()).values()))"
   ]
  },
  {
   "cell_type": "code",
   "execution_count": 15,
   "id": "cb1896c2",
   "metadata": {},
   "outputs": [
    {
     "name": "stdout",
     "output_type": "stream",
     "text": [
      "6.52\n"
     ]
    }
   ],
   "source": [
    "print(round(rdg, 2))"
   ]
  },
  {
   "cell_type": "markdown",
   "id": "ae1bc414",
   "metadata": {},
   "source": [
    "Answer: The average degree network for the random link is: 6.52"
   ]
  },
  {
   "cell_type": "code",
   "execution_count": 16,
   "id": "9d2d8af2",
   "metadata": {},
   "outputs": [],
   "source": [
    "# I will then go ahead and calculate the average degree for the acquaintances network..\n",
    "\n",
    "acdg = 2 * np.mean(list(dict(gh.in_degree()).values()))"
   ]
  },
  {
   "cell_type": "code",
   "execution_count": 17,
   "id": "aae68c17",
   "metadata": {},
   "outputs": [
    {
     "name": "stdout",
     "output_type": "stream",
     "text": [
      "8.17\n"
     ]
    }
   ],
   "source": [
    "print(round(acdg, 2))"
   ]
  },
  {
   "cell_type": "markdown",
   "id": "0eb4bb1a",
   "metadata": {},
   "source": [
    "Answer: The average degree network for the acquaintances network is: 8.17"
   ]
  },
  {
   "cell_type": "markdown",
   "id": "556e5efe",
   "metadata": {},
   "source": [
    "## Part 3: What is the maximum in-degree in each network and the node id/s of the student/s that corresponds to it"
   ]
  },
  {
   "cell_type": "code",
   "execution_count": 18,
   "id": "973a1f47",
   "metadata": {},
   "outputs": [],
   "source": [
    "# starting with random link network.\n",
    "mrd = max(dict(gr.in_degree()), key = dict(gr.in_degree()).get)"
   ]
  },
  {
   "cell_type": "code",
   "execution_count": 19,
   "id": "3671caae",
   "metadata": {},
   "outputs": [
    {
     "name": "stdout",
     "output_type": "stream",
     "text": [
      "12\n"
     ]
    }
   ],
   "source": [
    "print(mrd)"
   ]
  },
  {
   "cell_type": "code",
   "execution_count": 20,
   "id": "1cfdb1ad",
   "metadata": {},
   "outputs": [
    {
     "name": "stdout",
     "output_type": "stream",
     "text": [
      "9\n"
     ]
    }
   ],
   "source": [
    "print(gr.in_degree()[12])"
   ]
  },
  {
   "cell_type": "markdown",
   "id": "a26b3c06",
   "metadata": {},
   "source": [
    "- Answer: We can deduce that 9 is the node of the student that corresponds to the maximum in-degree of this network.\n",
    "\n",
    "- Maximum in degree is 12. "
   ]
  },
  {
   "cell_type": "code",
   "execution_count": 21,
   "id": "d3ec7fe7",
   "metadata": {},
   "outputs": [],
   "source": [
    "# The acquaintances network..\n",
    "\n",
    "acrd = max(dict(gh.in_degree()), key = dict(gh.in_degree()).get)"
   ]
  },
  {
   "cell_type": "code",
   "execution_count": 22,
   "id": "c04eed99",
   "metadata": {},
   "outputs": [
    {
     "name": "stdout",
     "output_type": "stream",
     "text": [
      "19\n"
     ]
    }
   ],
   "source": [
    "print(acrd)"
   ]
  },
  {
   "cell_type": "code",
   "execution_count": 23,
   "id": "cf50f592",
   "metadata": {},
   "outputs": [
    {
     "name": "stdout",
     "output_type": "stream",
     "text": [
      "12\n"
     ]
    }
   ],
   "source": [
    "print(gh.in_degree()[19])"
   ]
  },
  {
   "cell_type": "markdown",
   "id": "0547a458",
   "metadata": {},
   "source": [
    "- Answer: I can deduce here that the node of the student that corresponds to the maximum in-degree is 12. \n",
    "\n",
    "- Maximum in degree is 19."
   ]
  },
  {
   "cell_type": "markdown",
   "id": "6cbd27ac",
   "metadata": {},
   "source": [
    "## Part 4: In the same Figure, plot the histogram of the in-degree of the two  empirical networks "
   ]
  },
  {
   "cell_type": "code",
   "execution_count": 24,
   "id": "0e430bad",
   "metadata": {},
   "outputs": [
    {
     "data": {
      "text/plain": [
       "<Figure size 864x576 with 0 Axes>"
      ]
     },
     "metadata": {},
     "output_type": "display_data"
    },
    {
     "data": {
      "image/png": "[encoded data removed]",
      "text/plain": [
       "<Figure size 432x288 with 1 Axes>"
      ]
     },
     "metadata": {
      "needs_background": "light"
     },
     "output_type": "display_data"
    }
   ],
   "source": [
    "rdid = list(dict(gr.in_degree()).values())\n",
    "acid = list(dict(gh.in_degree()).values())\n",
    "\n",
    "brd = range(1,max(rdid)+2)\n",
    "bac = range(1,max(acid)+2)\n",
    "\n",
    "crd,krd = np.histogram(rdid, bins = brd)\n",
    "cac,kac = np.histogram(acid, bins = bac)\n",
    "\n",
    "plt.figure(figsize = (12, 8))\n",
    "fig, ax = plt.subplots()\n",
    "plt.bar(krd[:-1],crd,label='Random In-Degree',color = 'g')\n",
    "plt.bar(kac[:-1],cac,label='Acquaintances In-Degree',color='y', alpha = 1)\n",
    "plt.title('Histogram of the in-degree of the two empirical networks.')\n",
    "plt.ylabel('Iteration')\n",
    "plt.xlabel('Range of Degree')\n",
    "plt.legend(loc = 'upper right')\n",
    "plt.show()"
   ]
  },
  {
   "cell_type": "code",
   "execution_count": null,
   "id": "6241c2a4",
   "metadata": {},
   "outputs": [],
   "source": []
  }
 ],
 "metadata": {
  "kernelspec": {
   "display_name": "Python 3 (ipykernel)",
   "language": "python",
   "name": "python3"
  },
  "language_info": {
   "codemirror_mode": {
    "name": "ipython",
    "version": 3
   },
   "file_extension": ".py",
   "mimetype": "text/x-python",
   "name": "python",
   "nbconvert_exporter": "python",
   "pygments_lexer": "ipython3",
   "version": "3.9.12"
  }
 },
 "nbformat": 4,
 "nbformat_minor": 5
}
